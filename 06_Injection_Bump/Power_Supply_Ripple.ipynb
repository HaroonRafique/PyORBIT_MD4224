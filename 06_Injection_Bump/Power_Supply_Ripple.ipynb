{
 "cells": [
  {
   "cell_type": "markdown",
   "metadata": {},
   "source": [
    "# PS Injection Bump Tune Swing: Power Supply Ripple"
   ]
  },
  {
   "cell_type": "code",
   "execution_count": 4,
   "metadata": {},
   "outputs": [],
   "source": [
    "import imageio\n",
    "import pickle\n",
    "import datetime\n",
    "import pandas as pd\n",
    "import numpy as np\n",
    "import PyNAFF as pnf\n",
    "import scipy.io as sio \n",
    "import matplotlib.cm as cm\n",
    "from math import log10, floor\n",
    "import matplotlib\n",
    "import matplotlib.pyplot as plt\n",
    "from matplotlib.lines import Line2D\n",
    "from matplotlib.patches import Patch\n",
    "from scipy.optimize import curve_fit"
   ]
  },
  {
   "cell_type": "markdown",
   "metadata": {},
   "source": [
    "## Make the BSW kicker tables"
   ]
  },
  {
   "cell_type": "code",
   "execution_count": 5,
   "metadata": {},
   "outputs": [],
   "source": [
    "\n",
    "half_bump = True\n",
    "\n",
    "bsw40 = -1*0.003498034648\n",
    "bsw42 = -1*-0.01422287844\n",
    "bsw43 = -1*0.01290524313\n",
    "bsw44 = -1*-0.006001526439\n",
    "BSS_max = 2*1.11828e-01 #from twiss \n",
    "\n",
    "f = open(\"BSEXT_Bump_SBEND.tfs\",\"w\")\n",
    "\n",
    "# build the parameter sweep lists\n",
    "nstep = 100.\n",
    "\n",
    "t = np.arange(0,nstep+1,1)/nstep * np.pi/2\n",
    "t = np.append(t, t+np.pi/2)\n",
    "\n",
    "# Half the values for only bump closure\n",
    "len_t = len(t)\n",
    "\n",
    "def half_list(a_list):\n",
    "    half = len(a_list)//2\n",
    "    return a_list[:half], a_list[half:]\n",
    "\n",
    "s = half_list(t)[1]\n",
    "u = half_list(t)[0]\n",
    "\n",
    "# strengths for the simulation\n",
    "\n",
    "# sextupole strength\n",
    "BSS_val = BSS_max*np.cos(t)\n",
    "\n",
    "# dipole (kicker) strength\n",
    "bsw40_val = bsw40*np.sin(t)\n",
    "bsw42_val = bsw42*np.sin(t)\n",
    "bsw43_val = bsw43*np.sin(t)\n",
    "bsw44_val = bsw44*np.sin(t)\n",
    "\n",
    "# MADX\n",
    "#-BSStren*(BSW40/BSW42)\n",
    "# Equivalent\n",
    "#-BSS_val[t]*(bsw40*np.sin(t) / bsw42*np.sin(t))\n",
    "\n",
    "# We want a table, with K2 columns, one for each sextupole (4)\n",
    "# 9 spaces before and between each column\n",
    "# with header something like:\n",
    "d = datetime.datetime.today()\n",
    "date = str(str(d.day) + '/'+ str(d.month) +'/' + str(d.year))\n",
    "header = str('@ NAME             %08s \\\"BSWTABLE\\\"\\n@ TYPE             %04s \\\"USER\\\"\\n@ TITLE            %03s \\\"BSW\\\"\\n@ ORIGIN           %16s \\\"5.02.00 Linux 64\\\"\\n@ DATE             %08s \\\"'+date+'\\\"\\n@ TIME             %08s \\\"12.09.14\\\"\\n')\n",
    "\n",
    "f.write(header)\n",
    "f.write('*'+' '.join(map(lambda i: i.rjust(18), ['BSEXT_T', 'BSS', 'BSW40_K0', 'BSW42_K0', 'BSW43_K0', 'BSW44_K0'])) + '\\n')\n",
    "f.write('$'+' '.join(map(lambda i: i.rjust(18), ['%le', '%le', '%le', '%le','%le', '%le'])) + '\\n')\n",
    "\n",
    "if half_bump: \n",
    "    for i in xrange(0,len(s)):\n",
    "        f.write(' '+' '.join(map(lambda i: ('%1.4e'%i).rjust(18), [u[i], BSS_max*np.cos(s[i]), bsw40*np.sin(s[i]), bsw42*np.sin(s[i]), bsw43*np.sin(s[i]), bsw44*np.sin(s[i])])) + '\\n')\n",
    "\n",
    "else:\n",
    "    for i in xrange(0,len(t)):\n",
    "        f.write(' '+' '.join(map(lambda i: ('%1.4e'%i).rjust(18), [t[i], BSS_max*np.cos(t[i]), bsw40*np.sin(t[i]), bsw42*np.sin(t[i]), bsw43*np.sin(t[i]), bsw44*np.sin(t[i])])) + '\\n')\n"
   ]
  },
  {
   "cell_type": "code",
   "execution_count": null,
   "metadata": {},
   "outputs": [],
   "source": []
  },
  {
   "cell_type": "code",
   "execution_count": null,
   "metadata": {},
   "outputs": [],
   "source": []
  },
  {
   "cell_type": "code",
   "execution_count": null,
   "metadata": {},
   "outputs": [],
   "source": []
  },
  {
   "cell_type": "code",
   "execution_count": null,
   "metadata": {},
   "outputs": [],
   "source": []
  },
  {
   "cell_type": "code",
   "execution_count": null,
   "metadata": {},
   "outputs": [],
   "source": []
  },
  {
   "cell_type": "markdown",
   "metadata": {},
   "source": [
    "### Figure parameters"
   ]
  },
  {
   "cell_type": "code",
   "execution_count": 17,
   "metadata": {},
   "outputs": [],
   "source": [
    "plt.rcParams['figure.figsize'] = [5.0, 4.5]\n",
    "plt.rcParams['figure.dpi'] = 300\n",
    "plt.rcParams['savefig.dpi'] = 300\n",
    "\n",
    "plt.rcParams['axes.titlesize'] = 14\n",
    "plt.rcParams['axes.labelsize'] = 14\n",
    "\n",
    "plt.rcParams['xtick.labelsize'] = 10\n",
    "plt.rcParams['ytick.labelsize'] = 10\n",
    "\n",
    "plt.rcParams['font.size'] = 10\n",
    "plt.rcParams['legend.fontsize'] = 10\n",
    "\n",
    "plt.rcParams['lines.linewidth'] = 1\n",
    "plt.rcParams['lines.markersize'] = 5"
   ]
  },
  {
   "cell_type": "markdown",
   "metadata": {},
   "source": [
    "### Function Declarations"
   ]
  },
  {
   "cell_type": "code",
   "execution_count": 3,
   "metadata": {},
   "outputs": [],
   "source": [
    "def harmonic_fn(x, a, b, c, d):\n",
    "    return a + b*np.cos(c + 2*np.pi*d*x)\n",
    "\n",
    "def quadratic(x, a, m, c):\n",
    "    return a*x**2 + x*m + c\n",
    "\n",
    "def quadratic(x, a, m, c):\n",
    "    return a*x**2 + x*m + c\n",
    "\n",
    "def Md_fit(x, a, b, c, d):\n",
    "        return a + b*np.cos(c*x+d)\n",
    "    \n",
    "def Md_ramp_fit(x, a, b, c, d):\n",
    "    return a + b*(x-1)*np.cos(c*(x-1)+d)\n",
    "\n",
    "def round_sig(x, sig=4):\n",
    "    return round(x, sig-int(floor(log10(abs(x))))-1)"
   ]
  },
  {
   "cell_type": "code",
   "execution_count": 4,
   "metadata": {},
   "outputs": [],
   "source": [
    "def add_input_file(dd, filename, label):\n",
    "\tf = filename\n",
    "\tp = dict()\n",
    "\tsio.loadmat(f, mdict=p)\n",
    "\tdd[label] = p\t\n",
    "\tprint '\\tAdded output data from ', filename, '\\t dictionary key: ', label\n",
    "\treturn dd"
   ]
  },
  {
   "cell_type": "code",
   "execution_count": 9,
   "metadata": {},
   "outputs": [],
   "source": [
    "def Read_PTC_Twiss_Return_Dict(filename, verbose=True):\n",
    "    # Dictionary for output\n",
    "    d = dict()\n",
    "    keywords = ''\n",
    "    \n",
    "    # First we open and count header lines\n",
    "    fin0=open(filename,'r').readlines()\n",
    "    headerlines = 0\n",
    "    for l in fin0:\n",
    "        headerlines = headerlines + 1\n",
    "        if '* NAME' in l:\n",
    "            keywords = l\n",
    "            break\n",
    "    headerlines = headerlines + 1\n",
    "    \n",
    "    if verbose: print '\\nRead_PTC_Twiss_Return_Dict found Keywords: \\n',keywords\n",
    "    dict_keys = []\n",
    "    for key in keywords.split():\n",
    "        dict_keys.append(key)\n",
    "    dict_keys.remove('*')\n",
    "    if verbose: print '\\nRead_PTC_Twiss_Return_Dict Dict Keys: \\n',dict_keys\n",
    "    \n",
    "    for key in dict_keys:\n",
    "        d[key]=[]\n",
    "        \n",
    "    if verbose: print '\\nRead_PTC_Twiss_Return_Dict empty dictionary \\n', d\n",
    "    \n",
    "    # Strip header\n",
    "    fin1=open(filename,'r').readlines()[headerlines:]   \n",
    "    \n",
    "    for l in fin1:\n",
    "        i = -1        \n",
    "        for value in l.split():\n",
    "            i = i+1\n",
    "            if 'NAME' in dict_keys[i]:\n",
    "                d[dict_keys[i]].append(str(value))\n",
    "            else:\n",
    "                d[dict_keys[i]].append(float(value))    \n",
    "                \n",
    "    return dict_keys, d"
   ]
  },
  {
   "cell_type": "markdown",
   "metadata": {},
   "source": [
    "#### MAD-X Function for applying single quadrupole error to QDN78"
   ]
  },
  {
   "cell_type": "markdown",
   "metadata": {},
   "source": [
    "IF(quad_error==1){\n",
    "\n",
    "        !beta_0 = 22.35981157; !value @ QDN72\n",
    "        L_Q = 0.12;\n",
    "        beta_0 = 21.45106468; !value @ QDN78\n",
    "        value, beta_0;\n",
    "\n",
    "        Delta_k_unit = ( (2 * sin(twopi*(6+tune_y)) ) / (beta_0 * L_Q) );\n",
    "        value, Delta_k_unit;\n",
    "\n",
    "        !Delta_k := 1.05 * ( (2 * sin(twopi*(6+tune_y)) ) / (beta_0) );\n",
    "        !Delta_k := Beta_beating * 0.013781475; !For specific MD4224 optics\n",
    "        !Delta_k_unit_old := 0.000510425; !For specific MD4224 optics\n",
    "\n",
    "        Delta_k_new := -Beta_beating * 1E-2 * (Delta_k_unit*L_Q);\n",
    "        value, Delta_k_new;\n",
    "\n",
    "        EOPTION, ADD=false;\n",
    "        SELECT,FLAG=ERROR,CLEAR;\n",
    "        SELECT,FLAG=ERROR,PATTERN=PR.QDN78;\n",
    "        EFCOMP, DKN:={0,Delta_k_new,0}; \n",
    "}"
   ]
  },
  {
   "cell_type": "code",
   "execution_count": 72,
   "metadata": {},
   "outputs": [],
   "source": [
    "def dk_from_beta_beating(beta_beating_percentage, L_Q, beta_0, tune_y):\n",
    "    return -beta_beating_percentage * 1E-2 * (( (2 * np.sin(2*np.pi*(tune_y)) ) / (beta_0 * L_Q) ))\n",
    "    "
   ]
  },
  {
   "cell_type": "markdown",
   "metadata": {},
   "source": [
    "# Import Data"
   ]
  },
  {
   "cell_type": "code",
   "execution_count": 55,
   "metadata": {
    "scrolled": false
   },
   "outputs": [
    {
     "name": "stdout",
     "output_type": "stream",
     "text": [
      "\n",
      "Read_PTC_Twiss_Return_Dict found Keywords: \n",
      "* NAME                                S               BETX               BETY               ALFX               ALFY              DISP1              DISP2              DISP3              DISP4                  X                 PX                  Y                 PY \n",
      "\n",
      "\n",
      "Read_PTC_Twiss_Return_Dict Dict Keys: \n",
      "['NAME', 'S', 'BETX', 'BETY', 'ALFX', 'ALFY', 'DISP1', 'DISP2', 'DISP3', 'DISP4', 'X', 'PX', 'Y', 'PY']\n",
      "\n",
      "Read_PTC_Twiss_Return_Dict empty dictionary \n",
      "{'PY': [], 'NAME': [], 'BETY': [], 'BETX': [], 'DISP4': [], 'Y': [], 'S': [], 'PX': [], 'DISP1': [], 'X': [], 'DISP3': [], 'DISP2': [], 'ALFY': [], 'ALFX': []}\n",
      "\n",
      "Read_PTC_Twiss_Return_Dict found Keywords: \n",
      "* NAME                                S               BETX               BETY               ALFX               ALFY              DISP1              DISP3                MUX                MUY                  X                 PX                  Y                 PY \n",
      "\n",
      "\n",
      "Read_PTC_Twiss_Return_Dict Dict Keys: \n",
      "['NAME', 'S', 'BETX', 'BETY', 'ALFX', 'ALFY', 'DISP1', 'DISP3', 'MUX', 'MUY', 'X', 'PX', 'Y', 'PY']\n",
      "\n",
      "Read_PTC_Twiss_Return_Dict empty dictionary \n",
      "{'PY': [], 'NAME': [], 'BETY': [], 'BETX': [], 'MUY': [], 'MUX': [], 'Y': [], 'S': [], 'PX': [], 'DISP1': [], 'X': [], 'DISP3': [], 'ALFY': [], 'ALFX': []}\n",
      "\n",
      "Read_PTC_Twiss_Return_Dict found Keywords: \n",
      "* NAME                                S               BETX               BETY               ALFX               ALFY              DISP1              DISP3                MUX                MUY                  X                 PX                  Y                 PY \n",
      "\n",
      "\n",
      "Read_PTC_Twiss_Return_Dict Dict Keys: \n",
      "['NAME', 'S', 'BETX', 'BETY', 'ALFX', 'ALFY', 'DISP1', 'DISP3', 'MUX', 'MUY', 'X', 'PX', 'Y', 'PY']\n",
      "\n",
      "Read_PTC_Twiss_Return_Dict empty dictionary \n",
      "{'PY': [], 'NAME': [], 'BETY': [], 'BETX': [], 'MUY': [], 'MUX': [], 'Y': [], 'S': [], 'PX': [], 'DISP1': [], 'X': [], 'DISP3': [], 'ALFY': [], 'ALFX': []}\n"
     ]
    }
   ],
   "source": [
    "keys_00, d_00 = Read_PTC_Twiss_Return_Dict('00/optimised_flat_file.tfs')\n",
    "keys_05, d_05 = Read_PTC_Twiss_Return_Dict('05/optimised_flat_file.tfs')\n",
    "keys_10, d_10 = Read_PTC_Twiss_Return_Dict('10/optimised_flat_file.tfs')"
   ]
  }
 ],
 "metadata": {
  "kernelspec": {
   "display_name": "Python 2",
   "language": "python",
   "name": "python2"
  },
  "language_info": {
   "codemirror_mode": {
    "name": "ipython",
    "version": 2
   },
   "file_extension": ".py",
   "mimetype": "text/x-python",
   "name": "python",
   "nbconvert_exporter": "python",
   "pygments_lexer": "ipython2",
   "version": "2.7.15"
  }
 },
 "nbformat": 4,
 "nbformat_minor": 2
}
