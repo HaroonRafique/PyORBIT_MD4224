{
 "cells": [
  {
   "cell_type": "code",
   "execution_count": 1,
   "metadata": {},
   "outputs": [],
   "source": [
    "import matplotlib.pyplot as plt\n",
    "import imageio\n",
    "import numpy as np\n",
    "import scipy.io as sio \n",
    "import glob"
   ]
  },
  {
   "cell_type": "code",
   "execution_count": 2,
   "metadata": {},
   "outputs": [],
   "source": [
    "# Find all files in this directory"
   ]
  },
  {
   "cell_type": "code",
   "execution_count": 8,
   "metadata": {},
   "outputs": [
    {
     "name": "stdout",
     "output_type": "stream",
     "text": [
      "Qy=6.20_Injection+2ms.png\n",
      "Qy=6.18_Injection+2ms.png\n",
      "Qy=6.17_Injection+2ms.png\n",
      "Qy=6.16_Injection+2ms.png\n",
      "Qy=6.19_Injection+2ms.png\n",
      "Qy=6.14_Injection+2ms.png\n",
      "Qy=6.13_Injection+2ms.png\n",
      "Qy=6.11_Injection+2ms.png\n",
      "Qy=6.21_Injection+2ms.png\n",
      "Qy=6.22_Injection+2ms.png\n",
      "Qy=6.10_Injection+2ms.png\n",
      "Qy=6.23_Injection+2ms.png\n",
      "Qy=6.15_Injection+2ms.png\n",
      "Qy=6.12_Injection+2ms.png\n",
      "Qy=6.24_Injection+2ms.png\n"
     ]
    }
   ],
   "source": [
    "file_list = []\n",
    "for file in glob.glob(\"*.png\"):\n",
    "    print(file)\n",
    "    file_list.append(file)"
   ]
  },
  {
   "cell_type": "code",
   "execution_count": 13,
   "metadata": {},
   "outputs": [
    {
     "data": {
      "text/plain": [
       "['Qy=6.24_Injection+2ms.png',\n",
       " 'Qy=6.23_Injection+2ms.png',\n",
       " 'Qy=6.22_Injection+2ms.png',\n",
       " 'Qy=6.21_Injection+2ms.png',\n",
       " 'Qy=6.20_Injection+2ms.png',\n",
       " 'Qy=6.19_Injection+2ms.png',\n",
       " 'Qy=6.18_Injection+2ms.png',\n",
       " 'Qy=6.17_Injection+2ms.png',\n",
       " 'Qy=6.16_Injection+2ms.png',\n",
       " 'Qy=6.15_Injection+2ms.png',\n",
       " 'Qy=6.14_Injection+2ms.png',\n",
       " 'Qy=6.13_Injection+2ms.png',\n",
       " 'Qy=6.12_Injection+2ms.png',\n",
       " 'Qy=6.11_Injection+2ms.png',\n",
       " 'Qy=6.10_Injection+2ms.png']"
      ]
     },
     "execution_count": 13,
     "metadata": {},
     "output_type": "execute_result"
    }
   ],
   "source": [
    "sorted(file_list, reverse=True)"
   ]
  },
  {
   "cell_type": "code",
   "execution_count": 16,
   "metadata": {},
   "outputs": [],
   "source": [
    "images = []\n",
    "for filename in sorted(file_list, reverse=True):\n",
    "    images.append(imageio.imread(filename))\n",
    "imageio.mimsave('all_down.gif', images, duration=0.5)"
   ]
  },
  {
   "cell_type": "code",
   "execution_count": 15,
   "metadata": {},
   "outputs": [],
   "source": [
    "images = []\n",
    "for filename in sorted(file_list, reverse=False):\n",
    "    images.append(imageio.imread(filename))\n",
    "imageio.mimsave('all_up.gif', images, duration=0.5)"
   ]
  },
  {
   "cell_type": "code",
   "execution_count": null,
   "metadata": {},
   "outputs": [],
   "source": []
  }
 ],
 "metadata": {
  "kernelspec": {
   "display_name": "Python 2",
   "language": "python",
   "name": "python2"
  },
  "language_info": {
   "codemirror_mode": {
    "name": "ipython",
    "version": 2
   },
   "file_extension": ".py",
   "mimetype": "text/x-python",
   "name": "python",
   "nbconvert_exporter": "python",
   "pygments_lexer": "ipython2",
   "version": "2.7.15"
  }
 },
 "nbformat": 4,
 "nbformat_minor": 2
}
